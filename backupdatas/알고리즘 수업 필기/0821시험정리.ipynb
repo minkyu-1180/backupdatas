{
 "cells": [
  {
   "cell_type": "markdown",
   "id": "d1f1c481-a124-4d38-b7e4-10fcc96e0e6e",
   "metadata": {},
   "source": [
    "## 1. 배열"
   ]
  },
  {
   "cell_type": "markdown",
   "id": "302ecfa6-2b44-450d-98b8-a644d765a1f3",
   "metadata": {},
   "source": [
    "### 버블 정렬\n",
    "- 시간 복잡도 : O(n^2)"
   ]
  },
  {
   "cell_type": "code",
   "execution_count": 1,
   "id": "703d682c-c91c-4c5e-b069-142b28500cd6",
   "metadata": {},
   "outputs": [],
   "source": [
    "def bubblesort(arr):\n",
    "    N = len(arr)\n",
    "    for i in range(N-1, -1, -1):\n",
    "        for j in range(i):\n",
    "            if arr[j] > arr[j+1]:\n",
    "                arr[j], arr[j+1] = arr[j+1], arr[j]\n",
    "    return arr"
   ]
  },
  {
   "cell_type": "markdown",
   "id": "1b003926-f27a-472f-94be-06a6841f626e",
   "metadata": {},
   "source": [
    "### 카운팅 정렬\n",
    "- 시간 복잡도 : O(n + k)\n",
    "- k : 배열 내의 최대값"
   ]
  },
  {
   "cell_type": "code",
   "execution_count": 2,
   "id": "a6beea20-e5fe-4ba2-ac4b-9ee0ab1f5f7e",
   "metadata": {},
   "outputs": [],
   "source": [
    "def countingsort(arr, k):\n",
    "    N = len(arr)\n",
    "    counts = [0] * (k+1)\n",
    "    temp = [0] * N\n",
    "\n",
    "    for i in range(N):\n",
    "        counts[arr[i]] += 1\n",
    "    for i in range(1, N):\n",
    "        counts[i] += counts[i-1]\n",
    "\n",
    "    for i in range(N-1, -1, -1):\n",
    "        arr[i] = t\n",
    "        counts[t] -= 1\n",
    "        temp[counts[t]] = t\n",
    "    return temp"
   ]
  },
  {
   "cell_type": "markdown",
   "id": "ddfcf19e-a119-48ed-8fe8-57145c4c6a84",
   "metadata": {},
   "source": [
    "### 2차원 배열\n",
    "\n",
    "#### 2차원 배열 접근방법\n",
    "1. 행 접근\n",
    "```python\n",
    "for i in range(N):\n",
    "    for j in range(M):\n",
    "        func(arr[i][j])\n",
    "```\n",
    "2. 열 접근\n",
    "```python\n",
    "for j in range(M):\n",
    "    for i in range(N):\n",
    "        func(arr[i][j])\n",
    "```\n",
    "3. 지그재그 접근\n",
    "```python\n",
    "for i in range(N):\n",
    "    for j in range(M):\n",
    "        func(arr[i][j + (M - 1 - 2 * j) * (i % 2)])\n",
    "```\n",
    "\n",
    "#### transpose\n",
    "```python\n",
    "# N X M 2차원 배열의 전치 행렬\n",
    "traspose_arr = [[0] * N for _ in range(M)]\n",
    "\n",
    "for i in range(N):\n",
    "    for j in range(M):\n",
    "        arr[i][j] = transpose[j][i]\n",
    "```\n",
    "#### 델타 탐색\n",
    "```python\n",
    "di = [-1, 1, 0, 0]\n",
    "dj = [0, 0, -1, 1]\n",
    "\n",
    "for i in range(N):\n",
    "    for j in range(M):\n",
    "        for k in range(4):\n",
    "            ni = i + di[k]\n",
    "            nj = j + dj[k]\n",
    "            if 0 <= ni < N and 0 <= nj < M:\n",
    "                func(arr[ni][nj])\n",
    "```"
   ]
  },
  {
   "cell_type": "markdown",
   "id": "bec52738-7653-4396-a9b5-0ce08525a493",
   "metadata": {},
   "source": [
    "#### 부분집합 생성\n",
    "비트 연산자\n",
    "- &, |\n",
    "- <<, >>\n",
    "```python\n",
    "for i in range(1<<n):\n",
    "    for j in range(n):\n",
    "        if i & (1 << j):\n",
    "            func(arr[j])\n",
    "```\n"
   ]
  },
  {
   "cell_type": "markdown",
   "id": "3c98a388-eb2a-4d3a-a210-73e79a3d4380",
   "metadata": {},
   "source": [
    "### 이진검색\n",
    "- 시간 복잡도 : O(logn)"
   ]
  },
  {
   "cell_type": "code",
   "execution_count": 3,
   "id": "638df563-0641-4bf9-9997-4c0c5494109b",
   "metadata": {},
   "outputs": [],
   "source": [
    "def binarysearch(arr, start, end, key):\n",
    "    if start > end:\n",
    "        return False\n",
    "    middle = (start+end)//2\n",
    "    if arr[middle] == key:\n",
    "        return True\n",
    "    elif arr[middle] > key:\n",
    "        binarysearch(arr, start, middle - 1, key)\n",
    "    elif arr[middle] < key:\n",
    "        binarysearch(arr, middle + 1, end, key)\n"
   ]
  },
  {
   "cell_type": "markdown",
   "id": "d54a5c6d-4eda-483d-9083-e1c7f726e49a",
   "metadata": {},
   "source": [
    "### 셀렉션 알고리즘\n",
    "- 시간 복잡도 : O(kn)"
   ]
  },
  {
   "cell_type": "code",
   "execution_count": null,
   "id": "d3b93d66-e19b-4d94-8645-bf0604e45de1",
   "metadata": {},
   "outputs": [],
   "source": [
    "def selection(arr, k):\n",
    "    for i in range(k):\n",
    "        min_idx = i\n",
    "        for j in range(i+1, len(arr)):\n",
    "            if arr[min_idx] > arr[j]:\n",
    "                min_idx = j\n",
    "        arr[i], arr[min_idx] = arr[min_idx], arr[i]\n",
    "    return arr[k-1]\n",
    "    "
   ]
  },
  {
   "cell_type": "markdown",
   "id": "c9046d6b-0949-42a6-b735-ae137e9ba279",
   "metadata": {},
   "source": [
    "### 선택정렬\n",
    "- 시간 복잡도 : (n^2)\n",
    "- 셀렉션 알고리즘을 전체에 적용(k = n)"
   ]
  },
  {
   "cell_type": "code",
   "execution_count": null,
   "id": "d4d24b37-9cfa-4feb-afad-745bc863be25",
   "metadata": {},
   "outputs": [],
   "source": [
    "def selectionsort(arr):\n",
    "    N = len(arr)\n",
    "    for i in range(N):\n",
    "        min_idx = i\n",
    "        for j in range(i+1, N):\n",
    "            if arr[min_idx] > arr[j]:\n",
    "                min_idx = j\n",
    "        arr[min_idx], arr[i] = arr[i], arr[min_idx]\n",
    "    return arr\n",
    "    "
   ]
  },
  {
   "cell_type": "markdown",
   "id": "f05fa4aa-ef61-49d7-9625-ad976a77a928",
   "metadata": {},
   "source": [
    "## 2. 스택"
   ]
  },
  {
   "cell_type": "markdown",
   "id": "d646a6dc-8554-4d9e-b5f2-805023069c65",
   "metadata": {},
   "source": [
    "### 스택의 연산\n",
    "- push\n",
    "- pop\n",
    "- isEmpty\n",
    "- peek"
   ]
  },
  {
   "cell_type": "code",
   "execution_count": null,
   "id": "37b8b8a0-b28c-46dc-aea8-7d21ea9e9cea",
   "metadata": {},
   "outputs": [],
   "source": [
    "size = 10\n",
    "top = -1\n",
    "stack = [0] * size\n",
    "def push(item):\n",
    "    global top\n",
    "    top += 1\n",
    "    if top == size:\n",
    "        return \"OverFlow\"\n",
    "    stack[top] = item\n",
    "\n",
    "def pop():\n",
    "    global top\n",
    "    if top == -1:\n",
    "        return \"UnderFlow\"\n",
    "    top -= 1\n",
    "    return stack[top + 1]\n",
    "    "
   ]
  },
  {
   "cell_type": "markdown",
   "id": "21661cbf-de03-400a-ab95-fb974ddbaa27",
   "metadata": {},
   "source": [
    "### memoization\n",
    "- DP의 핵심 기술\n",
    "- 이전의 계산한 값을 메모리에 저장하여 매번 다시 계산하지 않도록\n"
   ]
  },
  {
   "cell_type": "code",
   "execution_count": 6,
   "id": "29ad1c39-67a6-45c9-844f-77acab86e165",
   "metadata": {},
   "outputs": [
    {
     "name": "stdout",
     "output_type": "stream",
     "text": [
      "55\n"
     ]
    }
   ],
   "source": [
    "memo = [0] * (10+1)\n",
    "memo[1] = memo[2] = 1\n",
    "def fibo(n):\n",
    "    global memo\n",
    "    if n < 3:\n",
    "        return 1\n",
    "    for i in range(2, n+1):\n",
    "        memo[i] = memo[i-1] + memo[i-2]\n",
    "    return memo[n]\n",
    "print(fibo(10))\n",
    "    "
   ]
  },
  {
   "cell_type": "markdown",
   "id": "d3ea8c25-f18f-4b58-995d-0c52b1fcce2c",
   "metadata": {},
   "source": [
    "### DP\n",
    "- 동적 계획법 : 최적화 문제 해결 알고리즘\n",
    "\n",
    "#### DP의 구현방식\n",
    "1. recursive(재귀) \n",
    "2. iterative(반복)"
   ]
  },
  {
   "cell_type": "markdown",
   "id": "9bb05094-dbc8-45d0-b072-1b599204b778",
   "metadata": {},
   "source": [
    "### DFS"
   ]
  },
  {
   "cell_type": "code",
   "execution_count": 1,
   "id": "54e4a773-a3d8-4985-b715-a2f277a6678a",
   "metadata": {},
   "outputs": [],
   "source": [
    "def dfs(N, start, adj):\n",
    "    stack = []\n",
    "    visited = [0] * (N+1)\n",
    "    visited[start] = 1\n",
    "\n",
    "    while True:\n",
    "        for next in adj[start]:\n",
    "            if visited[next] == 0:\n",
    "                stack.append(start)\n",
    "                start = next\n",
    "                visited[start] = 1\n",
    "                break\n",
    "        else:\n",
    "            if stack:\n",
    "                start = stack.pop()\n",
    "            else:\n",
    "                break\n",
    "    "
   ]
  },
  {
   "cell_type": "code",
   "execution_count": null,
   "id": "686b88c3-2dfe-4769-a464-d272c9ac5ba1",
   "metadata": {},
   "outputs": [],
   "source": [
    "def dfs(N, start, adj):\n",
    "    stack = []\n",
    "    visited = [0] * (N+1)\n",
    "    visited[start] = 1\n",
    "\n",
    "    while True:\n",
    "        for next in adj[start]:\n",
    "            if visited[next] == 0:\n",
    "                stack.append(start)\n",
    "                start = next\n",
    "                visited[start] = 1\n",
    "                break\n",
    "        else:\n",
    "            if stack:\n",
    "                start = stack.pop()\n",
    "            else:\n",
    "                break\n"
   ]
  },
  {
   "cell_type": "markdown",
   "id": "ca27955e-6f4b-4937-b8a8-7609dfd2d06a",
   "metadata": {},
   "source": [
    "## 4. queue"
   ]
  },
  {
   "cell_type": "markdown",
   "id": "ad5a5c99-ef4c-475a-87d2-111a02fe1b27",
   "metadata": {},
   "source": [
    "### Queue\n",
    "\n",
    "#### 큐의 연산\n",
    "- enqueue : 큐의 뒤쪽에 원소 삽입\n",
    "- dequeue : 큐의 앞쪽에 원소 삭제 및 반환\n",
    "- isEmpty : 큐가 공백인가?(front == rear ?)\n",
    "- isFull : 큐가 다 찼는가?(rear == len(arr) - 1?)\n",
    "- Qpeek : 큐의 앞쪽 원소를 반환\n",
    "\n",
    "#### 선형큐\n",
    "- 큐의 크기 : 배열 크기\n",
    "- 초기 상태 : front = rear = -1\n",
    "- 공백 상태 : front = rear\n",
    "- 삽입 위치 : rear = rear + 1\n",
    "- 삭제 위치 : front = front + 1\n",
    "- 포화 상태 : rear = len(arr) - 1\n",
    "- 잘못된 포화상태 인식 조심(앞부분에 활용할 수 있는 공간이 있음에도 포화상태로 인식하여 삽입 X)\n",
    "\n",
    "\n",
    "#### 원형 큐\n",
    "- 큐의 크기 : 배열 크기\n",
    "- 초기 상태 : front = rear = 0\n",
    "- 공백 상태 : front = rear\n",
    "- 삽입 위치 : rear = (rear+1) // len(arr)\n",
    "- 삭제 위치 : front = (front+1) // len(arr)\n",
    "- 포화 상태 : (rear + 1)//len(arr) == front"
   ]
  },
  {
   "cell_type": "markdown",
   "id": "905bb7ac-1860-4a5b-9a44-18cb85cf416b",
   "metadata": {},
   "source": [
    "### BFS\n",
    "탐색 시작점의 인접한 정점들을 모두 차례로 방문한 후에, 방문했떤 정점을 시작점으로 하여 다시 인접한 정점들을 차례로 방문하는 방식\n",
    "- 거리순 탐색이 유용한 경우 사용\n",
    "- 선입선출 형태의 자료구조 큐 사용"
   ]
  },
  {
   "cell_type": "code",
   "execution_count": null,
   "id": "4daa4dc8-b65c-4303-b295-67e05eaaafd2",
   "metadata": {},
   "outputs": [],
   "source": [
    "def bfs(n, start, adj):\n",
    "    visited = [0] * (n+1)\n",
    "    queue = []\n",
    "\n",
    "    queue.append(start)\n",
    "    visited[queue] = 1\n",
    "\n",
    "    while queue:\n",
    "        node = queue.pop(0)\n",
    "        for next in adj[node]:\n",
    "            if visited[next] == 0:\n",
    "                visited[nex"
   ]
  },
  {
   "cell_type": "code",
   "execution_count": null,
   "id": "83eed5b0-5fb7-4c9d-8844-30acbe0c7234",
   "metadata": {},
   "outputs": [],
   "source": [
    "def bfs(N, start, adj):\n",
    "    queue = []\n",
    "    visited = [0] * (N+1)\n",
    "\n",
    "    visited[start] = 1\n",
    "    queue.append(start)\n",
    "\n",
    "    while queue:\n",
    "        node = queue.pop(0)\n",
    "        for next in adj[node]:\n",
    "            if visited[next] == 0:\n",
    "                queue.append(next)\n",
    "                # 방문한 순서 및 거리 할당\n",
    "                visited[next] = visited[node] + 1\n",
    "        "
   ]
  },
  {
   "cell_type": "markdown",
   "id": "528f7f2d-2521-4232-9132-86d0626cfe30",
   "metadata": {},
   "source": []
  },
  {
   "cell_type": "markdown",
   "id": "82ac59ad-5d4c-4b88-8362-265532a5d057",
   "metadata": {},
   "source": []
  }
 ],
 "metadata": {
  "kernelspec": {
   "display_name": "Python 3 (ipykernel)",
   "language": "python",
   "name": "python3"
  },
  "language_info": {
   "codemirror_mode": {
    "name": "ipython",
    "version": 3
   },
   "file_extension": ".py",
   "mimetype": "text/x-python",
   "name": "python",
   "nbconvert_exporter": "python",
   "pygments_lexer": "ipython3",
   "version": "3.9.13"
  }
 },
 "nbformat": 4,
 "nbformat_minor": 5
}
