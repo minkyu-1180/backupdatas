{
 "cells": [
  {
   "cell_type": "markdown",
   "id": "bba84aa6-08c8-41fb-a6b6-3ee2653d6973",
   "metadata": {},
   "source": [
    "# SW 문제 해결 응용2. 완전 검색 & 그리디"
   ]
  },
  {
   "cell_type": "markdown",
   "id": "da5b5516-e9ad-4b78-855d-c204e38a4138",
   "metadata": {},
   "source": [
    "## 목자\n",
    "\n",
    "### 1. 반복과 재귀\n",
    "### 2. 완전검색기법\n",
    "### 3. 순열\n",
    "### 4. 부분 집합\n",
    "### 5. 조합\n",
    "### 6. 탐욕 알고리즘\n",
    "### 7. 활동 선택 문제\n",
    "### 8. Baby-jin"
   ]
  },
  {
   "cell_type": "markdown",
   "id": "1075d9ee-e324-4af7-85ff-aa3df6c115b2",
   "metadata": {},
   "source": []
  },
  {
   "cell_type": "markdown",
   "id": "0ad3de21-4faa-415d-92f1-a07b2b8a3b52",
   "metadata": {},
   "source": [
    "## 1. 반복과 재귀"
   ]
  },
  {
   "cell_type": "markdown",
   "id": "1101ded5-5d18-4310-8b77-5e4052bf3071",
   "metadata": {},
   "source": [
    "### 반복과 재귀\n",
    "1. 반복(Iteration) : 수행하는 작업이 완료될 때 까지 계속 실행하는 것\n",
    "    - 루프(for, while 구조)\n",
    "2. 재귀(Recursion) : 주어진 문제의 해를 구하기 위해 동일하면서 더 작은 문제의 해를 이용하는 방법\n",
    "    - 하나의 큰 문제를 해결하기 쉬운 더 작은 문제로 쪼개고 결과들을 결합하는 것\n",
    "    - 재귀 함수로 표현"
   ]
  },
  {
   "cell_type": "markdown",
   "id": "441df8d8-4c18-45f7-a945-cbe3ea4c1929",
   "metadata": {},
   "source": []
  },
  {
   "cell_type": "markdown",
   "id": "c0f23b6a-1613-4cd6-805b-375cf83ebc40",
   "metadata": {},
   "source": []
  },
  {
   "cell_type": "markdown",
   "id": "21a6983b-4893-43ab-a84b-47b3cb996b3e",
   "metadata": {},
   "source": []
  },
  {
   "cell_type": "markdown",
   "id": "08de0450-5da3-43e9-a4c0-94b8bb0966e4",
   "metadata": {},
   "source": []
  },
  {
   "cell_type": "markdown",
   "id": "4a6ea640-d67f-4505-b311-c1529ba0d6c2",
   "metadata": {},
   "source": []
  },
  {
   "cell_type": "markdown",
   "id": "a36b279a-c64f-417e-9ec1-d7a8fbe9936c",
   "metadata": {},
   "source": []
  },
  {
   "cell_type": "markdown",
   "id": "76cf1337-1687-4497-bcba-9980710e2cc2",
   "metadata": {},
   "source": []
  },
  {
   "cell_type": "markdown",
   "id": "689dc246-e135-4939-90ad-210db20b54a7",
   "metadata": {},
   "source": []
  },
  {
   "cell_type": "markdown",
   "id": "d26df857-b197-43ba-b503-5d55394be20a",
   "metadata": {},
   "source": []
  },
  {
   "cell_type": "markdown",
   "id": "ac0bdf29-6b7f-4d6f-aff1-8037c5dbc529",
   "metadata": {},
   "source": []
  },
  {
   "cell_type": "markdown",
   "id": "cb92e5f6-cdd5-4f22-a15f-e59c1da5af5f",
   "metadata": {},
   "source": []
  },
  {
   "cell_type": "markdown",
   "id": "4a3ae9c5-8419-4c4c-9d27-0a0efdc6ff31",
   "metadata": {},
   "source": []
  },
  {
   "cell_type": "markdown",
   "id": "29404f95-b42f-48b9-8267-84c7519cd493",
   "metadata": {},
   "source": []
  },
  {
   "cell_type": "markdown",
   "id": "9d7ee5c3-e442-4463-96d6-0436c865d62c",
   "metadata": {},
   "source": []
  },
  {
   "cell_type": "markdown",
   "id": "7af84f49-771b-4092-9397-0e271221cde8",
   "metadata": {},
   "source": []
  },
  {
   "cell_type": "code",
   "execution_count": null,
   "id": "9f0f31d0-b617-444c-8208-b12308df65b5",
   "metadata": {},
   "outputs": [],
   "source": []
  }
 ],
 "metadata": {
  "kernelspec": {
   "display_name": "Python 3 (ipykernel)",
   "language": "python",
   "name": "python3"
  },
  "language_info": {
   "codemirror_mode": {
    "name": "ipython",
    "version": 3
   },
   "file_extension": ".py",
   "mimetype": "text/x-python",
   "name": "python",
   "nbconvert_exporter": "python",
   "pygments_lexer": "ipython3",
   "version": "3.9.13"
  }
 },
 "nbformat": 4,
 "nbformat_minor": 5
}
