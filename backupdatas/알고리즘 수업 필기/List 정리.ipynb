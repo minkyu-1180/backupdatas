{
 "cells": [
  {
   "cell_type": "markdown",
   "id": "0ad5c73a-32de-4207-8893-396dcf4eb16d",
   "metadata": {},
   "source": [
    "## 1. 알고리즘"
   ]
  },
  {
   "cell_type": "markdown",
   "id": "fb2901c4-bc44-4b40-96f6-e9356303184a",
   "metadata": {},
   "source": [
    "### 알고리즘\n",
    "유한한 단계를 통해 문제를 해결하기 위한 절차나 방법\n",
    "- 컴퓨터가 어떤 일을 수행하기 위한 단계적 방법(문제 해결 절차)\n",
    "#### 알고리즘 표현 방법\n",
    "- 의사 코드 : 코딩\n",
    "- 순서도 : 손코딩\n",
    "\n",
    "#### 알고리즘 성능 측정\n",
    "1. 정확성\n",
    "2. 작업량\n",
    "3. 메모리 사용량\n",
    "4. 단순성\n",
    "5. 최적성\n",
    "\n",
    "#### 시간 복잡도 \n",
    "알고리즘의 작업량을 표현하는 방법\n",
    "- 실제 걸리는 시간을 측정(실행되는 명령문의 개수)\n",
    "- Big-O Notation : 시간 복잡도 함수 중에서 가장 큰 영향력을 주는 n에 대항 항만을 표시\n",
    "- O(1) < O(log(n)) < O(n) < O(nlog(n)) < O(n^2) < O(2^n) < O(n!)"
   ]
  },
  {
   "cell_type": "markdown",
   "id": "e3d0dd5a-3b9c-40f4-ad77-34a32aa9ace6",
   "metadata": {},
   "source": [
    "## 2. 배열"
   ]
  },
  {
   "cell_type": "markdown",
   "id": "e71668c1-fd7b-4a83-a0ce-1c25d1863170",
   "metadata": {},
   "source": [
    "### 배열\n",
    "일정한 자료형의 변수들을 하나의 이름으로 열거하여 사용하는 자료구조\n",
    "- 하나의 선언을 통해 둘 이상의 변수 선언 가능(효율적인 선언 및 접근)\n",
    "- 다수의 변수로 하기 힘든 작업에 용이"
   ]
  },
  {
   "cell_type": "markdown",
   "id": "acc8f47c-988d-4f22-a999-20687fbc4e86",
   "metadata": {},
   "source": [
    "## 3. 정렬"
   ]
  },
  {
   "cell_type": "markdown",
   "id": "0bda31cc-f26d-483f-88bc-1de9fa74623d",
   "metadata": {},
   "source": [
    "### 정렬\n",
    "2개 이상의 자료를 특정 기준에 의해 작은 값부터 큰 값 혹은 그 반대의 순서대로 재배열하는 것\n",
    "#### 정렬의 종류\n",
    "1. 버블 정렬\n",
    "2. 카운팅 정렬\n",
    "3. 선택 정렬\n",
    "4. 퀵 정렬\n",
    "5. 삽입 정렬\n",
    "6. 병합 정렬"
   ]
  },
  {
   "cell_type": "markdown",
   "id": "cb8ce3bb-6fbe-490c-a794-be1b04d17a84",
   "metadata": {},
   "source": [
    "### 버블 정렬\n",
    "인접한 두 개의 원소를 비교하며 자리를 계속 교환하는 방식\n",
    "\n",
    "<버블 정렬 과정>\n",
    "1. 첫 번째 원소부터 인접한 원소끼리 계속 자리를 교환하면서 맨 마지막 자리까지 이동\n",
    "2. 한 단계가 끝나면 가장 큰 원소가 마지막 자리로 정렬\n",
    "- 시간 복잡도 : O(n^2)"
   ]
  },
  {
   "cell_type": "code",
   "execution_count": 1,
   "id": "2c3968d2-94c1-4f7f-a922-309dd7e35092",
   "metadata": {},
   "outputs": [],
   "source": [
    "# 버블 정렬\n",
    "def BubbleSort(arr):\n",
    "    N = len(arr)\n",
    "    for i in range(N-1, 0, -1):\n",
    "        for j in range(i):\n",
    "            if arr[j] > arr[j+1]:\n",
    "                arr[j], arr[j+1] = arr[j+1], arr[j]\n"
   ]
  },
  {
   "cell_type": "markdown",
   "id": "5fc3c092-16aa-4882-a3ab-3b7b424f9254",
   "metadata": {},
   "source": [
    "### 카운팅 정렬\n",
    "항목들의 순서를 결정하기 위해 집합에 각 항목이 몇 개씩 있는지 세는 작업을 통해 선형 시간에 정렬하는 효율적인 알고리즘\n",
    "- 정수/정수로 표현할 수 있는 자료에 적용 가능\n",
    "- 집합 내의 가장 큰 정수를 알아야 함\n",
    "- 시간 복잡도 : O(n+k) (k : 배열에서 가장 큰 요소 값)"
   ]
  },
  {
   "cell_type": "code",
   "execution_count": 2,
   "id": "2e30b50c-92d4-49b1-8807-41268301d9ae",
   "metadata": {},
   "outputs": [],
   "source": [
    "# 카운팅 정렬\n",
    "def CountingSort(arr, K):\n",
    "    # 요소들의 누적 합을 담을 배열\n",
    "    counts = [0] * (K+1)\n",
    "    # 정렬된 배열 \n",
    "    temp = [0] * (K+1)\n",
    "    # counts[idx] : 원본 배열 내의 i의 개수\n",
    "    for i in range(K+1):\n",
    "        counts[arr[i]] += 1\n",
    "    # counts[idx] : 원본 배열에서 0 ~ idx의 누적 개수\n",
    "    for i in range(K):\n",
    "        counts[i+1] += counts[i]\n",
    "    for i in range(K, 0, -1):\n",
    "        idx = arr[i]\n",
    "        counts[idx] -= 1\n",
    "        temp[counts[idx]] = idx\n",
    "    \n",
    "    "
   ]
  },
  {
   "cell_type": "markdown",
   "id": "2682d685-1805-4cb9-ad37-bcf9ad2a96fe",
   "metadata": {},
   "source": [
    "## 3. 완전 검색"
   ]
  },
  {
   "cell_type": "markdown",
   "id": "f0c7e972-617f-4dab-962e-52f7b02127e8",
   "metadata": {},
   "source": [
    "### 완전 검색\n",
    "문제의 해법으로 생각할 수 있는 모든 경우의 수를 나열해보고 확인하는 기법\n",
    "- 모든 경우의 수를 테스트 후, 최종 해법을 도출\n",
    "- 경우의 수가 상대적으로 작을 때 유용\n",
    "\n",
    "### 순열\n",
    "서로 다른 것들 중 몇 개를 뽑아서 한 줄로 나열하는 것"
   ]
  },
  {
   "cell_type": "markdown",
   "id": "963d5b1d-544a-416d-aa2c-416a0d873d6b",
   "metadata": {},
   "source": [
    "## 4. 탐욕 알고리즘\n"
   ]
  },
  {
   "cell_type": "markdown",
   "id": "24ca8c2b-8b0e-428a-b2cf-ce1d2574dd77",
   "metadata": {},
   "source": [
    "### 탐욕 알고리즘\n",
    "최적해를 구하는 데 사용되는 근시안적인 방법\n",
    "- 순간에 최적이라고 생각되는 것을 선택해 나가며 최종 해답에 도달하는 것\n",
    "- 지역적으로는 최적이지만, 그 선택들을 계속 수집하여 만들어낸 최종 해답이 최적이라는 보장은 X\n",
    "\n",
    "<탐욕 알고리즘의 동작 과정>\n",
    "1. 해 선택 : 현재 상태에서 부분 문제의 최적 해를 구한 뒤, 이를 부분해 집합에 추가\n",
    "2. 실행 가능성 검사 : 새로운 부분해 집합이 실행 가능한지 확인\n",
    "3. 해 검사 : 새로운 부분해 집합이 문제의 해가 되는지 확인\n",
    "- 전체 문제의 해가 완성되지 않을 경우 해 선택부터 다시 시작\n",
    "\n",
    "#### 거스롬돈 줄이기!!!! 한번 확인하기"
   ]
  },
  {
   "cell_type": "markdown",
   "id": "0a27db4d-3836-4fcc-9397-e05ec3af613e",
   "metadata": {},
   "source": [
    "## 5. 2차원 배열"
   ]
  },
  {
   "cell_type": "markdown",
   "id": "7011aa7a-0ade-428d-a1a1-7be8c37f1f3d",
   "metadata": {},
   "source": [
    "### 2차원 배열\n",
    "1차원 리스트를 묶어놓은 배열\n",
    "- 차원에 따라 idx 선언\n",
    "- 세로 길이 : 행의 개수 / 가로 길이 : 열의 개수\n",
    "```python\n",
    "# 2차원 배열 접근\n",
    "# 행 우선 순회\n",
    "for i in range(N):\n",
    "    for j in range(M):\n",
    "        f(arr[i][j])\n",
    "# 열 우선 순회\n",
    "for j in range(M):\n",
    "    for i in range(N):\n",
    "        f(arr[i][j])\n",
    "# 지그재그 우선 순회\n",
    "for i in range(N):\n",
    "    for j in range(M):\n",
    "        # 짝수번 idx : 순서대로\n",
    "        # 홀수번 idx : 역순으로\n",
    "        f(arr[i][j + (M-1-2*j) * (i%2)])\n",
    "```\n",
    "\n",
    "#### 델타를 이용한 탐색\n",
    "```python\n",
    "\n",
    "di = [-1, 1, 0, 0]\n",
    "dj = [0, 0, -1, 1]\n",
    "\n",
    "for k in range(4):\n",
    "    ni = i + di[k]\n",
    "    nj = j + dj[k]\n",
    "    # 해당 좌표가 적절할 경우\n",
    "    if 0 <= ni < N and 0 <= nj < M:\n",
    "        f(arr[ni][nj])\n",
    "```\n",
    "#### 전치행렬\n",
    "```python\n",
    "transpose_arr = [[0] * N for _ in range(M)]\n",
    "for i in range(N):\n",
    "    for j in range(M):\n",
    "        if i < j:\n",
    "            # 어떻게 해야 할까요??\n",
    "            arr[i][j], arr[j][i] = arr[j][i], arr[i][j]\n",
    "```"
   ]
  },
  {
   "cell_type": "markdown",
   "id": "ff1b4423-3105-44a6-88c9-4a78014735aa",
   "metadata": {},
   "source": [
    "## 6. 부분집합의 합"
   ]
  },
  {
   "cell_type": "markdown",
   "id": "6d3910e3-8d7e-4765-9e0a-8b6f891ebdd8",
   "metadata": {},
   "source": [
    "### 부분집합의 합\n",
    "유한 개의 정수로 이루어진 집합이 있을 때, 이 집합의 부분집합을 생성하는 방법\n",
    "\n",
    "### 비트 연산자\n",
    "```python\n",
    "N = len(arr)\n",
    "for i in range(1 << N):\n",
    "    for j in range(N):\n",
    "        if i & (1 << j):\n",
    "            print(arr[j], end = \", \")\n",
    "    print()\n",
    "print()\n",
    "```"
   ]
  },
  {
   "cell_type": "markdown",
   "id": "9e1fc134-13c4-4bfc-9c56-41039a1e4c99",
   "metadata": {},
   "source": [
    "## 7. 검색"
   ]
  },
  {
   "cell_type": "markdown",
   "id": "793d56b8-c6dd-4f6e-a83d-6fc3fda4606c",
   "metadata": {},
   "source": [
    "### 검색\n",
    "저장된 자료 중 원하는 항목을 찾는 직업\n",
    "\n",
    "<검색의 종류>\n",
    "1. 순차 검색\n",
    "2. 이진 검색\n",
    "3. 해쉬"
   ]
  },
  {
   "cell_type": "markdown",
   "id": "28cb464e-16bb-455a-b40f-02c93061d049",
   "metadata": {},
   "source": [
    "### 순차 검색\n",
    "일렬로 되어 있는 자료를 순서대로 검색하는 법\n",
    "- 가장 간단하고 직관적인 방법\n",
    "- 순차구조로 구현된 자료구조에서 원하는 항목을 찾을 때 유용\n",
    "- 단순한 알고리즘\n",
    "- 검색 대상의 수가 많은 경우 비효율적\n",
    "\n",
    "#### 정렬되지 않은 경우 순차 검색\n",
    "무조건 끝까지\n",
    "- 시간 복잡도 : O(n) ( 1/n * (1 + ,,, + n) )\n",
    "```python\n",
    "def SequentialSearch(arr, N, key):\n",
    "    i = 0\n",
    "    while i < N and a[i] != key:\n",
    "        i += 1\n",
    "    if i < N:\n",
    "        return i\n",
    "    else:\n",
    "        return -1\n",
    "```\n",
    "#### 정렬된 순차 검색\n",
    "찾고자 하는 원소의 순서에 따라 비교회수 결정\n",
    "- 시간 복잡도 : O(n)\n",
    "```python\n",
    "def SequentialSearch2(arr, N, key):\n",
    "    i = 0\n",
    "    while i < N and a[i] < key:\n",
    "        i += 1\n",
    "        if i < N and a[i] == key:\n",
    "            return i\n",
    "    else:\n",
    "        return -1\n",
    "```"
   ]
  },
  {
   "cell_type": "markdown",
   "id": "78f3ba5b-13cf-4427-9f02-9888dae6e43f",
   "metadata": {},
   "source": [
    "### 이진 검색\n",
    "자료의 가운데 있는 항목의 키 값과 비교하여 다음 검색의 위치를 결정하고 검색을 진행하는 방법\n",
    "- 검색 범위를 반으로 줄여가면서 빠르게 검색 수행\n",
    "- 정렬된 상태여야 이진검색 가능\n",
    "\n",
    "<이진 검색 과정>\n",
    "1. 자료의 중앙에 있는 원소를 찾기\n",
    "2. 중앙 원소의 값과 찾고자 하는 값 비교\n",
    "3. 목표 값이 중앙 원소의 값보다 작으면 자료의 왼쪽 반에 대해 새로 검색을 수행 / 크다면 자료의 오른쪽 반에 대해 새로 검색 수행\n",
    "4. 찾고자 하는 값을 찾을 때 까지 위의 과정 반복\n",
    "\n",
    "```python\n",
    "def BinarySearch(arr, N, key):\n",
    "    l = 0\n",
    "    r = N-1\n",
    "    while l <= r:\n",
    "        middle = (l + r)//2\n",
    "        if arr[middle] == key:\n",
    "            return True\n",
    "        elif arr[middle] > key:\n",
    "            r = middle - 1\n",
    "        elif arr[middle] < key:\n",
    "            l = middle + 1\n",
    "    return false\n",
    "# 재귀함수 이용\n",
    "def BinarySearch2(arr, l, r, key):\n",
    "    if l > r:\n",
    "        return False\n",
    "    else:\n",
    "        middle = (l + r) // 2\n",
    "        if key == arr[middle]:\n",
    "            return True\n",
    "        elif key < arr[middle]:\n",
    "            BinarySearch2(arr, l, middle-1, key)\n",
    "        elif key > arr[middle]:\n",
    "            BinarySearch2(arr, middle+1, r, key)"
   ]
  },
  {
   "cell_type": "markdown",
   "id": "8d9513d0-b5df-4e42-bb7a-2214315e714e",
   "metadata": {},
   "source": [
    "### 셀렉션 알고리즘\n",
    "저장되어 있는 자료로부터 k번째로 큰, 혹은 작은 원소를 찾는 방법\n",
    "- 최소, 최대 혹은 중간값을 찾는 알고리즘\n",
    "- 시간 복잡도 : O(kn)\n",
    "```python\n",
    "def Selection(arr, k):\n",
    "    for i in range(k):\n",
    "        min_idx = i\n",
    "        for j in range(i+1, len(arr)):\n",
    "            if arr[min_idx] > arr[j]:\n",
    "                min_idx = j\n",
    "        arr[i], arr[min_idx] = arr[min_idx], arr[i]\n",
    "    return arr[k-1]\n"
   ]
  },
  {
   "cell_type": "markdown",
   "id": "93a2226f-e8de-473d-afbe-a4cd8c3fff11",
   "metadata": {},
   "source": [
    "### 선택 정렬\n",
    "주어진 자료 중 가장 작은 값의 원소부터 차례대로 선택하여 위치를 교환하는 방식\n",
    "- 셀렉션 알고리즘을 전체 자료에 적용\n",
    "\n",
    "<선택 정렬 과정>\n",
    "1. 주어진 리스트 중 최소값 찾기\n",
    "2. 그 값을 리스트의 맨 앞에 위치한 값과 교환\n",
    "3. 맨 처음 위치를 제외한 나머지 리스트를 대상으로 위의 과정 반복\n",
    "- 시간 복잡도 : O(n^2)\n",
    "```python\n",
    "def SelectionSort(arr):\n",
    "    N = len(arr)\n",
    "    for i in range(N-1):\n",
    "        min_idx = i\n",
    "        for j in range(i+1, N):\n",
    "            if arr[min_idx] > arr[j]:\n",
    "                min_idx = j\n",
    "        arr[i], arr[min_idx] = arr[min_idx], arr[i]\n",
    "```"
   ]
  },
  {
   "cell_type": "markdown",
   "id": "bcda7650-b37d-4731-88a3-365b20245c61",
   "metadata": {},
   "source": [
    "### \n",
    "달팽이, 색칠하기, 파리퇴치 확인해보기"
   ]
  },
  {
   "cell_type": "markdown",
   "id": "6be05ca5-a2c6-468b-9234-23eab421f00f",
   "metadata": {},
   "source": []
  },
  {
   "cell_type": "markdown",
   "id": "1eef9a45-72e8-4107-8694-e6a9e5970fc9",
   "metadata": {},
   "source": []
  }
 ],
 "metadata": {
  "kernelspec": {
   "display_name": "Python 3 (ipykernel)",
   "language": "python",
   "name": "python3"
  },
  "language_info": {
   "codemirror_mode": {
    "name": "ipython",
    "version": 3
   },
   "file_extension": ".py",
   "mimetype": "text/x-python",
   "name": "python",
   "nbconvert_exporter": "python",
   "pygments_lexer": "ipython3",
   "version": "3.11.4"
  }
 },
 "nbformat": 4,
 "nbformat_minor": 5
}
