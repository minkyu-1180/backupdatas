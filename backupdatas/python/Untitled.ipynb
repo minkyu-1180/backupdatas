{
 "cells": [
  {
   "cell_type": "markdown",
   "id": "aa32e4da-a8cf-4e46-a3af-ba62e9207151",
   "metadata": {},
   "source": [
    "# 1. fundamentals of python"
   ]
  },
  {
   "cell_type": "code",
   "execution_count": 4,
   "id": "e62475b7-ad45-4bb2-8ce2-f4752d82332f",
   "metadata": {},
   "outputs": [
    {
     "name": "stdout",
     "output_type": "stream",
     "text": [
      "20\n"
     ]
    }
   ],
   "source": [
    "# 변수의 재할당\n",
    "num = 10\n",
    "double = 2 * num\n",
    "\n",
    "# 변수의 재할당\n",
    "num = 5\n",
    "# double에 할당된 값에는 영향 X\n",
    "print(double)"
   ]
  },
  {
   "cell_type": "markdown",
   "id": "bde4553d-1e63-4c9f-89f7-1e4ae7d1b634",
   "metadata": {},
   "source": [
    "# 2. Data Types"
   ]
  },
  {
   "cell_type": "code",
   "execution_count": 5,
   "id": "84ed5ebc-50a3-421c-9c2d-d0122020f38d",
   "metadata": {},
   "outputs": [
    {
     "name": "stdout",
     "output_type": "stream",
     "text": [
      "2\n",
      "10\n",
      "179\n",
      "False\n",
      "o\n"
     ]
    }
   ],
   "source": [
    "# int\n",
    "print(0b10)\n",
    "print(0o12)\n",
    "print(0xB3)\n",
    "\n",
    "# float\n",
    "# 유한 정밀도 / floatin point rounding error\n",
    "import math\n",
    "print(math.isclose(2.1, 3.1))\n",
    "# 지수 표현 방식\n",
    "num = 314e-2\n",
    "\n",
    "# seq(str / list / tuple / range) : 순서 O\n",
    "\n",
    "# str : 순서 O, 중복 O, 수정 X, 반복 O\n",
    "# f-string 쓸 때, print(f\"{}\")에서 안에 {} 쓸 때, 바깥의 따옴표와 다른거 쓰기\n",
    "# escape seq : \\n, \\t, \\', \\\", \\\\\n",
    "# 슬라이싱 역순\n",
    "print('Hello'[4:3:-1]) \n",
    "\n",
    "# list : 순서 O, 중복 O, 수정 X, 반복 O\n",
    "# tuple : 순서 O, 중복 O, 수정 X, 반복 O\n",
    "# range : 순서 O, 중복 X, 수정 X, 반복 O\n",
    "\n",
    "# non-seq(dict / set) : 순서 X\n",
    "\n",
    "# dict : 순서 X, 중복 X(키중복 X), 수정 O(값 수정 O), 반복 O\n",
    "# set : 순서 X, 중복 X, 수정 O, 반복 O\n",
    "# 빈 집합 표현시 {}가 아닌 set()\n",
    "\n",
    "# 기타 : None, bool\n",
    "\n",
    "# Collection : 여러 요소를 담는 자료구조\n",
    "# str, list, tuple, set, dict"
   ]
  },
  {
   "cell_type": "markdown",
   "id": "fe52c87a-aa95-4f5a-b9f0-0b2e0b50cff6",
   "metadata": {},
   "source": [
    "# 3. Type conversion"
   ]
  },
  {
   "cell_type": "code",
   "execution_count": 6,
   "id": "0b8f4a98-fc64-4a19-b0cc-0dd7eb14b67b",
   "metadata": {},
   "outputs": [
    {
     "name": "stdout",
     "output_type": "stream",
     "text": [
      "3\n",
      "4.9\n",
      "1\n",
      "1\n",
      "1등\n",
      "3.5\n",
      "3\n",
      "2.0\n"
     ]
    }
   ],
   "source": [
    "# 암시적 형 변환 : Bool <-> Num\n",
    "print(True + 2)\n",
    "print(3 + 1.9)\n",
    "print(True - False)\n",
    "\n",
    "# 명시적 형 변환\n",
    "print(int('1'))\n",
    "print(str(1) + '등')\n",
    "print(float('3.5'))\n",
    "print(int(3.5))\n",
    "print(float(2))\n",
    "\n",
    "# print(int('3.4'))는 X"
   ]
  },
  {
   "cell_type": "markdown",
   "id": "e472975a-acef-4492-8ae4-9fa0f402e600",
   "metadata": {},
   "source": [
    "# 4. Operator\n",
    "\n",
    "### 연산자 우선순위\n",
    "\n",
    "1. ()\n",
    "2. []\n",
    "3. **\n",
    "4. +, -(부호)\n",
    "5. *, /, //, %\n",
    "6. +, -\n",
    "7. 비교 연산자\n",
    "8. is 비교 연산자\n",
    "9. 멤버십 연산자\n",
    "10. not\n",
    "11. and\n",
    "12. or"
   ]
  },
  {
   "cell_type": "code",
   "execution_count": null,
   "id": "5e5bf064-23ff-41ff-ba65-6ea93eb189d0",
   "metadata": {},
   "outputs": [],
   "source": [
    "# 산술 연산자 \n",
    "# 복합 연산자\n",
    "\n",
    "# 비교 연산자\n",
    "# == : equality(같은 값인지) / is 비교연산자 : identity(같은 메모리 주소를 참조하는지)\n",
    "\n",
    "# 논리 연산자\n",
    "# 단축평가\n",
    "\n",
    "# 멤버십 연산자\n",
    "\n",
    "# 시퀀스 연산자(+, *)\n",
    "# 기존 합연잔사, 곱연산자와 다른 역할"
   ]
  },
  {
   "cell_type": "markdown",
   "id": "2f990dfa-c2f0-44ff-8367-9c966bbb3796",
   "metadata": {},
   "source": [
    "# 5. functions\n",
    "\n",
    "### 함수 정의 시 꼭꼭꼭 return해주기"
   ]
  },
  {
   "cell_type": "code",
   "execution_count": 8,
   "id": "a945127c-7de8-40fe-a653-bbd107ec1ece",
   "metadata": {},
   "outputs": [
    {
     "name": "stdout",
     "output_type": "stream",
     "text": [
      "10 2 500\n",
      "10 2 3\n",
      "1 2\n"
     ]
    }
   ],
   "source": [
    "# 매개변수와 인자\n",
    "# 매개변수 : 함수 정의시 / 인자 : 함수 호출 시\n",
    "# 위치 인자 / 기본 인자 값 / 키워드 인자 / 임의의 인자 목록 / 임의의 키워드 인자 목록\n",
    "# def func(pos1, pos2, default = 'default', *args, **kwargs):\n",
    "\n",
    "# LEGB Rule 기억해서 변수가 사용가능한 scope 구분 잘하기\n",
    "# global keyword\n",
    "\n",
    "# global var 정의\n",
    "a = 1\n",
    "b = 2\n",
    "\n",
    "def enclosed():\n",
    "    a = 10\n",
    "    c = 3\n",
    "\n",
    "    def local(c):\n",
    "        print(a, b, c)\n",
    "    local(500) # 10, 3, 500\n",
    "    print(a, b, c) # 10, 2, 3\n",
    "\n",
    "\n",
    "enclosed()  \n",
    "print(a, b) # 1, 2\n",
    "\n",
    "# map(func, iter)\n",
    "# zip(*iters)\n",
    "# lambda par1, par2, ... : func"
   ]
  },
  {
   "cell_type": "markdown",
   "id": "128f8eb5-eb9e-46cc-bba0-66f4596af3ae",
   "metadata": {},
   "source": [
    "# 6. Packing & Unpacking"
   ]
  },
  {
   "cell_type": "code",
   "execution_count": 11,
   "id": "e1097ec2-dbb5-441a-ae02-58441512c993",
   "metadata": {},
   "outputs": [
    {
     "name": "stdout",
     "output_type": "stream",
     "text": [
      "[2, 3, 4]\n",
      "1 2 3 4\n",
      "({'name': 'kim', 'age': 21},)\n"
     ]
    }
   ],
   "source": [
    "# packing\n",
    "packed = 1, 2, 3, 4 # 튜플\n",
    "nums = [1, 2, 3, 4, 5]\n",
    "a, *b, c = nums\n",
    "print(b) # [2, 3, 4]\n",
    "\n",
    "# unpacking\n",
    "a, b, c, d = packed\n",
    "print(a, b, c, d)\n",
    "# ** : 리스트 요소를 언패킹\n",
    "\n",
    "def my_func(*kwargs):\n",
    "    return kwargs\n",
    "\n",
    "print(my_func({'name' : 'kim', 'age' : 21}))"
   ]
  },
  {
   "cell_type": "markdown",
   "id": "4ae5bf19-4301-4e4c-b2b5-570edb69ed98",
   "metadata": {},
   "source": []
  },
  {
   "cell_type": "markdown",
   "id": "cd16a47a-5204-4251-afea-2f97bf25fb90",
   "metadata": {},
   "source": [
    "# 9. data structure"
   ]
  },
  {
   "cell_type": "code",
   "execution_count": null,
   "id": "4aaa14d4-3d2b-4cd7-bd49-d85d08bfd889",
   "metadata": {},
   "outputs": [],
   "source": [
    "# 변수의 재하"
   ]
  },
  {
   "cell_type": "code",
   "execution_count": null,
   "id": "8099a716-a985-44d6-a8e8-45bf2065a7d7",
   "metadata": {},
   "outputs": [],
   "source": [
    "# seq\n",
    "\n",
    "# str\n",
    "# .index(x)\n",
    "# .isupper(), .islower()\n",
    "# .isalpha()\n",
    "# .find(x) # x의 첫 번째 위치를 반환(없으면 -1 반환)\n",
    "\n",
    "# .replace(old, new)\n",
    "# .strip([chars]) : 문자열의 시작과 끝에 있는 공백 혹은 지정한 문자 제거\n",
    "\n",
    "# .split(sep = None)\n",
    "\n",
    "# 'sep'.join([iter])\n",
    "\n"
   ]
  },
  {
   "cell_type": "markdown",
   "id": "dc311e3e-5532-4fd4-80f9-02fb2ce683a3",
   "metadata": {},
   "source": []
  },
  {
   "cell_type": "markdown",
   "id": "afadfb4f-263a-4228-9a01-0b6b0a2012e7",
   "metadata": {},
   "source": []
  },
  {
   "cell_type": "markdown",
   "id": "f9f0598f-9a16-48e2-8608-b95ce9a582b0",
   "metadata": {},
   "source": []
  },
  {
   "cell_type": "markdown",
   "id": "301a516d-0e8c-45cf-a725-d4274146671e",
   "metadata": {},
   "source": []
  },
  {
   "cell_type": "markdown",
   "id": "32e9022d-6468-4fc8-afd9-72b797317622",
   "metadata": {},
   "source": []
  },
  {
   "cell_type": "markdown",
   "id": "a59a8111-fdf2-49c0-917e-90bc07bbc2b5",
   "metadata": {},
   "source": []
  },
  {
   "cell_type": "markdown",
   "id": "5c16c10a-8478-4275-a1e9-8e3d6bfb755f",
   "metadata": {},
   "source": []
  },
  {
   "cell_type": "markdown",
   "id": "22a48598-0578-4841-9a84-31ea357e77a4",
   "metadata": {},
   "source": []
  },
  {
   "cell_type": "markdown",
   "id": "88841e02-576c-4aa7-b09f-419855228447",
   "metadata": {},
   "source": []
  },
  {
   "cell_type": "markdown",
   "id": "6aff1f4f-f313-4b39-9dab-0d3ce64716a7",
   "metadata": {},
   "source": []
  },
  {
   "cell_type": "markdown",
   "id": "20c0d44d-480a-4815-80c9-03a4b764712e",
   "metadata": {},
   "source": []
  },
  {
   "cell_type": "markdown",
   "id": "6b381d15-85eb-4dc4-b372-a8ce98269680",
   "metadata": {},
   "source": []
  }
 ],
 "metadata": {
  "kernelspec": {
   "display_name": "Python 3 (ipykernel)",
   "language": "python",
   "name": "python3"
  },
  "language_info": {
   "codemirror_mode": {
    "name": "ipython",
    "version": 3
   },
   "file_extension": ".py",
   "mimetype": "text/x-python",
   "name": "python",
   "nbconvert_exporter": "python",
   "pygments_lexer": "ipython3",
   "version": "3.9.13"
  }
 },
 "nbformat": 4,
 "nbformat_minor": 5
}
