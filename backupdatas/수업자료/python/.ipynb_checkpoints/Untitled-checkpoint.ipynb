{
 "cells": [
  {
   "cell_type": "markdown",
   "id": "aa32e4da-a8cf-4e46-a3af-ba62e9207151",
   "metadata": {},
   "source": [
    "# 1. fundamentals of python"
   ]
  },
  {
   "cell_type": "code",
   "execution_count": null,
   "id": "e62475b7-ad45-4bb2-8ce2-f4752d82332f",
   "metadata": {},
   "outputs": [],
   "source": [
    "# 변수의 재할당\n",
    "num = 10\n",
    "double = 2 * num\n",
    "\n",
    "# 변수의 재할당\n",
    "num = 5\n",
    "# double에 할당된 값에는 영향 X\n",
    "print(double)"
   ]
  },
  {
   "cell_type": "markdown",
   "id": "bde4553d-1e63-4c9f-89f7-1e4ae7d1b634",
   "metadata": {},
   "source": [
    "# 2. Data Types"
   ]
  },
  {
   "cell_type": "code",
   "execution_count": null,
   "id": "84ed5ebc-50a3-421c-9c2d-d0122020f38d",
   "metadata": {},
   "outputs": [],
   "source": [
    "# int\n",
    "print(0b10)\n",
    "print(0o12)\n",
    "print(0xB3)\n",
    "\n",
    "# float\n",
    "# 유한 정밀도 / floatin point rounding error\n",
    "import math\n",
    "print(math.isclose(2.1, 3.1))\n",
    "# 지수 표현 방식\n",
    "num = 314e-2\n",
    "\n",
    "# seq(str / list / tuple) : 순서 O\n",
    "# str : 순서 O, 중복 O, 수정 X, 반복 O\n",
    "# f-string 쓸 때, print(f\"{}\")에서 안에 {} 쓸 때, 바깥의 따옴표와 다른거 쓰기\n",
    "# escape seq : \\n, \\t, \\', \\\", \\\\\n",
    "print('Hello'[3:1:-1])"
   ]
  },
  {
   "cell_type": "markdown",
   "id": "fe52c87a-aa95-4f5a-b9f0-0b2e0b50cff6",
   "metadata": {},
   "source": []
  },
  {
   "cell_type": "markdown",
   "id": "e472975a-acef-4492-8ae4-9fa0f402e600",
   "metadata": {},
   "source": []
  },
  {
   "cell_type": "markdown",
   "id": "2f990dfa-c2f0-44ff-8367-9c966bbb3796",
   "metadata": {},
   "source": []
  },
  {
   "cell_type": "markdown",
   "id": "128f8eb5-eb9e-46cc-bba0-66f4596af3ae",
   "metadata": {},
   "source": []
  },
  {
   "cell_type": "markdown",
   "id": "4ae5bf19-4301-4e4c-b2b5-570edb69ed98",
   "metadata": {},
   "source": []
  },
  {
   "cell_type": "markdown",
   "id": "cd16a47a-5204-4251-afea-2f97bf25fb90",
   "metadata": {},
   "source": []
  },
  {
   "cell_type": "code",
   "execution_count": null,
   "id": "4aaa14d4-3d2b-4cd7-bd49-d85d08bfd889",
   "metadata": {},
   "outputs": [],
   "source": [
    "# 변수의 재하"
   ]
  },
  {
   "cell_type": "markdown",
   "id": "dc311e3e-5532-4fd4-80f9-02fb2ce683a3",
   "metadata": {},
   "source": []
  },
  {
   "cell_type": "markdown",
   "id": "afadfb4f-263a-4228-9a01-0b6b0a2012e7",
   "metadata": {},
   "source": []
  },
  {
   "cell_type": "markdown",
   "id": "f9f0598f-9a16-48e2-8608-b95ce9a582b0",
   "metadata": {},
   "source": []
  },
  {
   "cell_type": "markdown",
   "id": "301a516d-0e8c-45cf-a725-d4274146671e",
   "metadata": {},
   "source": []
  },
  {
   "cell_type": "markdown",
   "id": "32e9022d-6468-4fc8-afd9-72b797317622",
   "metadata": {},
   "source": []
  },
  {
   "cell_type": "markdown",
   "id": "a59a8111-fdf2-49c0-917e-90bc07bbc2b5",
   "metadata": {},
   "source": []
  },
  {
   "cell_type": "markdown",
   "id": "5c16c10a-8478-4275-a1e9-8e3d6bfb755f",
   "metadata": {},
   "source": []
  },
  {
   "cell_type": "markdown",
   "id": "22a48598-0578-4841-9a84-31ea357e77a4",
   "metadata": {},
   "source": []
  },
  {
   "cell_type": "markdown",
   "id": "88841e02-576c-4aa7-b09f-419855228447",
   "metadata": {},
   "source": []
  },
  {
   "cell_type": "markdown",
   "id": "6aff1f4f-f313-4b39-9dab-0d3ce64716a7",
   "metadata": {},
   "source": []
  },
  {
   "cell_type": "markdown",
   "id": "20c0d44d-480a-4815-80c9-03a4b764712e",
   "metadata": {},
   "source": []
  },
  {
   "cell_type": "markdown",
   "id": "6b381d15-85eb-4dc4-b372-a8ce98269680",
   "metadata": {},
   "source": []
  }
 ],
 "metadata": {
  "kernelspec": {
   "display_name": "Python 3 (ipykernel)",
   "language": "python",
   "name": "python3"
  },
  "language_info": {
   "codemirror_mode": {
    "name": "ipython",
    "version": 3
   },
   "file_extension": ".py",
   "mimetype": "text/x-python",
   "name": "python",
   "nbconvert_exporter": "python",
   "pygments_lexer": "ipython3",
   "version": "3.9.13"
  }
 },
 "nbformat": 4,
 "nbformat_minor": 5
}
