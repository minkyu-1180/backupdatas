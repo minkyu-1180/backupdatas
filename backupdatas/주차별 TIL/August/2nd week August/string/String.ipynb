{
 "cells": [
  {
   "cell_type": "markdown",
   "id": "d51cb7f9-aa19-4f18-ae55-4236c6a04164",
   "metadata": {},
   "source": [
    "## ASCII"
   ]
  },
  {
   "cell_type": "markdown",
   "id": "aa801b41-1fee-441b-a23c-db2e833f7ef0",
   "metadata": {},
   "source": [
    "### ASCII(American Standard Code for Information Interchange)"
   ]
  },
  {
   "cell_type": "markdown",
   "id": "cd0fd54f-7aa1-4328-98b6-1847a375e3c9",
   "metadata": {},
   "source": [
    "### Brute Force\n",
    "고지식한 알고리즘\n",
    "- 본문 문자열을 처음부터 끝까지 차례대로 순회하면서 패턴 내의 문자들을 일일이 비교하는 방식\n",
    "- 시간 복잡도 : O(MN) (M : 패턴의 길이 / N : 타깃의 길이)"
   ]
  },
  {
   "cell_type": "code",
   "execution_count": null,
   "id": "1c06e054-bb20-4148-a4f0-0ad8dfe2846c",
   "metadata": {},
   "outputs": [],
   "source": [
    "pattern = 'is'\n",
    "target = 'This is a book!'\n",
    "N = len(target)\n",
    "M = len(pattern)\n",
    "\n",
    "def BruteForce(pattern, target):\n",
    "    i = 0 # target의 인덱스\n",
    "    j = 0 # pattern의 인덱스\n",
    "    # pattern과 target의 인덱스를 모두 순회할 때 까지\n",
    "    while j < M and i < N:\n",
    "        if target[i] != pattern[j]: # 다를 경우\n",
    "            i -= j\n",
    "            j -= 1\n",
    "        i += 1\n",
    "        j += 1\n",
    "    # while문의 종료 조건으로 j == M 이 걸린 경우\n",
    "    # 즉, 해당 패턴이 타겟 안에 있는 경우\n",
    "    if j == M:\n",
    "        return i-M # 패턴이 시작된 타깃 내의 인덱스\n",
    "    # while문의 종료 조건으로 i == N이 걸린 경우\n",
    "    else:\n",
    "        return -1"
   ]
  },
  {
   "cell_type": "code",
   "execution_count": null,
   "id": "5d9a6409-84ce-4e19-ad62-6d3757577de6",
   "metadata": {},
   "outputs": [],
   "source": [
    "def BruteForce(pattern, target):\n",
    "    M = len(pattern)\n",
    "    N = len(target)\n",
    "    i = 0\n",
    "    j = 0\n",
    "    while j < M and i < N:\n",
    "        if pattern[j] != target[i]:\n",
    "            i -= j\n",
    "            j -= 1\n",
    "        i += 1\n",
    "        j ++ 1\n",
    "    if j == M:\n",
    "        return i-M\n",
    "    else:\n",
    "        return -1\n",
    "\n"
   ]
  },
  {
   "cell_type": "markdown",
   "id": "3e6ad58b-fdb7-4723-ae92-bb63b3a766ea",
   "metadata": {},
   "source": [
    "### KMP 알고리즘\n",
    "불일치가 발생한 텍스트 스트링의 앞 부분에 어떤 문자가 있는지 알고있음\n",
    "- 불일치가 발생한 앞 부분에 대해 다시 비교하지 않고 매칭 수행\n",
    "- 패턴을 전처리하여 배열 next[M]을 구해서 잘못된 시작 최소화\n",
    "- next[M] : 불일치가 발생했을 경우 이동할 다음 위치\n",
    "- 시간 복잡도 : O(M+N)"
   ]
  },
  {
   "cell_type": "markdown",
   "id": "36430a6c-06ce-4cc5-9671-6f7f72f4aa6d",
   "metadata": {},
   "source": []
  },
  {
   "cell_type": "markdown",
   "id": "56f3d41e-4003-414e-b057-76eef60914c5",
   "metadata": {},
   "source": [
    "# 버블 정렬\n",
    "- 시간 복잡도 : O(n^2)\n",
    "\n",
    "```python\n",
    "def Bubble(arr):\n",
    "    N = len(arr)\n",
    "    for i in range(N-1, -1, -1):\n",
    "        for j in range(i):\n",
    "            if arr[j] > arr[j+1]:\n",
    "                arr[j], arr[j+1] = arr[j+1], arr[j]\n",
    "    return arr\n",
    "```\n",
    "\n",
    "### 카운팅 정렬\n",
    "- 시간 복잡도 : O(n+k)\n",
    "```python\n",
    "def Counting(arr, k):\n",
    "    n = len(arr)\n",
    "    counts = [0] * (k+1)\n",
    "    temp = [0] * n\n",
    "    for i in range(n):\n",
    "        counts[arr[i]] += 1\n",
    "    for i in range(k-1):\n",
    "        counts[i+1] += counts[i]\n",
    "    for i in range(n-1, -1, -1):\n",
    "        counts[arr[i]] -= -1\n",
    "        temp[counts[arr[i]] = arr[i]\n",
    "```\n",
    "### 2차원 배열\n",
    "```python\n",
    "# 지그재그 순회\n",
    "for i in range(N):\n",
    "    for j in range(M):\n",
    "        print(arr[i][j + (M - 1 - 2 * j) * (i % 2)], end = ' ')\n",
    "    print()\n",
    "print()\n",
    "\n",
    "# 델타 순회\n",
    "di = [-1, 1, 0, 0]\n",
    "dj = [0, 0, -1, 0]\n",
    "for i in range(N):\n",
    "    for j in range(M):\n",
    "        for k in range(4):\n",
    "            ni = i + di[k]\n",
    "            nj = j + dj[k]\n",
    "            if 0 <= ni < N and 0 <= nj < M:\n",
    "                function call\n",
    "\n",
    "```\n"
   ]
  },
  {
   "cell_type": "markdown",
   "id": "7904c218-f7b1-498e-916a-b8814b6818ee",
   "metadata": {},
   "source": []
  },
  {
   "cell_type": "markdown",
   "id": "6a4fe6a7-665d-4e6b-84b4-f49280d5303c",
   "metadata": {},
   "source": []
  },
  {
   "cell_type": "markdown",
   "id": "fd88176c-7872-4689-ab8f-77d1a4db0c47",
   "metadata": {},
   "source": []
  },
  {
   "cell_type": "markdown",
   "id": "f0bf609f-1478-46ea-9b89-1f7d505650c1",
   "metadata": {},
   "source": []
  },
  {
   "cell_type": "markdown",
   "id": "0556f8ef-93e8-444f-8219-edd43ab8ae51",
   "metadata": {},
   "source": []
  },
  {
   "cell_type": "markdown",
   "id": "c2a14dfa-e2cf-47c9-83f6-c3fd8aafa88f",
   "metadata": {},
   "source": []
  },
  {
   "cell_type": "code",
   "execution_count": null,
   "id": "63f0bacf-86cb-4bdd-810f-566bfbce1f46",
   "metadata": {},
   "outputs": [],
   "source": []
  }
 ],
 "metadata": {
  "kernelspec": {
   "display_name": "Python 3 (ipykernel)",
   "language": "python",
   "name": "python3"
  },
  "language_info": {
   "codemirror_mode": {
    "name": "ipython",
    "version": 3
   },
   "file_extension": ".py",
   "mimetype": "text/x-python",
   "name": "python",
   "nbconvert_exporter": "python",
   "pygments_lexer": "ipython3",
   "version": "3.9.13"
  }
 },
 "nbformat": 4,
 "nbformat_minor": 5
}
