{
 "cells": [
  {
   "attachments": {
    "fafcfd85-e1bb-4664-9e02-374c870f23e1.png": {
     "image/png": "[encoded data removed]"
    }
   },
   "cell_type": "markdown",
   "id": "8c69bc9d-c728-4897-ba65-3451ddbc0091",
   "metadata": {},
   "source": [
    "### 중위표기법(infix notation)\n",
    "연산자를 피연산자의 가운데 표기하는 방법\n",
    "- A + B\n",
    "### 후위표기법(postfix notation)\n",
    "연산자를 피연산자 뒤에 표기하는 방법\n",
    "- AB+\n",
    "\n",
    "#### 중위표기법에서 후위표기법으로의 변환\n",
    "ex. (6 + 5 * (2 - 8) / 2)\n",
    "\n",
    "우선순위\n",
    "1. icp(in-coming priority)\n",
    "2. isp(in-stack priority)\n",
    "- icp보다 isp가 큰 경우 : push\n",
    "- icp가 isp와 같거나 큰경우 : pop\n",
    "\n",
    "![image.png](attachment:fafcfd85-e1bb-4664-9e02-374c870f23e1.png)\n"
   ]
  },
  {
   "cell_type": "markdown",
   "id": "36cea916-61fb-467c-b2e4-5cd1778bf08a",
   "metadata": {},
   "source": [
    "### 계산기 2\n",
    "#### 후위 표기법의 수식을 스택을 이용하여 계산\n",
    "1. 피연산자를 만나면 스택에 push한다\n",
    "2. 연산자를 만나면 필ㅇ\n",
    "\n",
    "   "
   ]
  },
  {
   "cell_type": "code",
   "execution_count": null,
   "id": "ce790bdf-0c16-48c4-b190-1564f2aee055",
   "metadata": {},
   "outputs": [],
   "source": [
    "stack = [0] * 100\n",
    "top = -1\n",
    "string = '6528-*2/+'\n",
    "\n",
    "for x in string:\n",
    "    if x not in '+-/*':\n",
    "        top += 1\n",
    "        stack[top] = int(x)\n",
    "    else:\n",
    "        if x == '+':\n",
    "            op2 = stack[top]\n",
    "            top -= 1\n",
    "            op1 = stack[top]\n",
    "            top -= 1\n",
    "            top += 1\n",
    "            stack[top] = op1 + op2\n",
    "        elif x == '-':\n",
    "            op2 = stack[top]\n",
    "            top -= 1\n",
    "            op1 = stack[top]\n",
    "            top -= 1\n",
    "            top += 1\n",
    "            stack[top] = op1 - op2\n",
    "        elif x == '/':\n",
    "            op2 = stack[top]\n",
    "            top -= 1\n",
    "            op1 = stack[top]\n",
    "            top -= 1\n",
    "            top += 1\n",
    "            stack[top] = op1 / op2\n",
    "            \n",
    "        elif x == '*':\n",
    "            op2 = stack[top]\n",
    "            top -= 1\n",
    "            op1 = stack[top]\n",
    "            top -= 1\n",
    "            top += 1\n",
    "            stack[top] = op1 * op2\n",
    "\n",
    "\n"
   ]
  },
  {
   "cell_type": "code",
   "execution_count": null,
   "id": "1fc24e5b-3795-4d37-be20-d351e0d69968",
   "metadata": {},
   "outputs": [],
   "source": [
    "stack = [0] * 100\n",
    "top = -1\n",
    "icp = {'(' : 3, \n",
    "       '*' : 2,\n",
    "       '/' : 2,\n",
    "       '+' : 1,\n",
    "       '-' : 1}\n",
    "isp = {'(' : 0,\n",
    "       '*' : 2,\n",
    "       '/' : 2,\n",
    "       '+' : 1,\n",
    "       '-' : 1}\n",
    "fx = '(6+55*(2-8)/2)'\n",
    "result = ''\n",
    "for x in fx:\n",
    "    if x not in '(+-*/)':\n",
    "        result += x\n",
    "    elif x == ')':\n",
    "        while\n",
    "        # 토큰의 우선순위가 더 높을 경우\n",
    "    else:    \n",
    "        if top == -1 or isp[stack[top]] < icp[stack[top]]:\n",
    "            top += 1\n",
    "            stack[top] = x\n",
    "            \n",
    "        "
   ]
  },
  {
   "cell_type": "markdown",
   "id": "2147fbb0-9b57-417e-bf68-bfb4ad59c1fe",
   "metadata": {},
   "source": [
    "### 백트래킹\n",
    "해를 찾는 도중 막히면(해가 아니면) 되돌아가서 다시 해를 찾아가는 기법\n",
    "- 최적화 문제와 결정 문제 해결\n",
    "- 결정 문제 : 문제의 조건을 만족하는 해가 존재하는지의 여부를 yes 혹은 no로 답하는 문제\n",
    "- (ex. 미로 찾기, n-Queen, Map coloring, 부분 집합의 합 등)\n",
    "\n",
    "#### 깊이우선탐색과의 차이\n",
    "- 어떤 노드에서 출발하는 경로가 해결책으로 이어질 것 같지 않으면 더 이상 그 경로를 따라가지 않음으로써 시도의 횟수를 줄임(Prunning : 가지치기)\n",
    "- 깊이우선탐색이 모든 경로를 추적하는데 비해 백트래킹은 불필요한 경로를 조기에 차단\n",
    "- 깊이우선탐색을 가하기에는 경우의 수가 너무나 많음 즉, N! 가지의 경우의 수를 가진 문제에 대해 깊이우선탐색을 가하면 당연히 처리 불가능한 문제\n",
    "- 백트래킹 알고리즘을 적용하면 일반적으로 경우의 수가 줄어들지만 이 역시 최악의 경우에는 여전히 지수함수 시간(Exponential Time)을 요하므로 처리 불가능\n",
    "- 모든 후보를 검사? NO!\n",
    "\n",
    "#### 백트래킹 기법\n",
    "어떤 노드의 유망성을 점검한 후에 유망(promising)하지 않다고 결정되면 그 노드의 부모로 되돌아가(backtracking) 다음 자식 노드로 감\n",
    "- 어떤 노드를 방문하였을 때 그 노드를 포함한 경로가 해답이 될 수 없으면 그 노드는 유망하지 않다고 함\n",
    "- 반대로 해답의 가능성이 있으면 유망하다고 함\n",
    "- 가지치기 : 유망하지 않은 노드가 포함된 경로는 더 이상 고려하지 않는 것\n",
    "\n",
    "#### 백트래킹 알고리즘\n",
    "1. 상태 공간 트리의 깊이 우선 검색 실시\n",
    "2. 각 노드가 유망한지 점검\n",
    "3. 만일 그 노드가 유망하지 않으면, 그 노드의 부모 노드로 돌아가서 검색을 계속"
   ]
  },
  {
   "cell_type": "markdown",
   "id": "5518cad0-24e3-4b2e-a8f8-630765a8c305",
   "metadata": {},
   "source": []
  },
  {
   "cell_type": "markdown",
   "id": "1f5c2418-6516-45ae-a715-85671c0a0209",
   "metadata": {},
   "source": []
  },
  {
   "cell_type": "markdown",
   "id": "f4edabbf-1bc2-4e71-aab9-51e82d097cb6",
   "metadata": {},
   "source": []
  },
  {
   "cell_type": "markdown",
   "id": "88c4bfac-0976-48c3-a850-7bb5edf19567",
   "metadata": {},
   "source": []
  },
  {
   "cell_type": "markdown",
   "id": "a5d19789-4a5a-47b9-b8c8-5f4ba1326d80",
   "metadata": {},
   "source": []
  },
  {
   "cell_type": "code",
   "execution_count": null,
   "id": "7fa80c53-0222-43d3-869a-993eae5e6c8a",
   "metadata": {},
   "outputs": [],
   "source": []
  }
 ],
 "metadata": {
  "kernelspec": {
   "display_name": "Python 3 (ipykernel)",
   "language": "python",
   "name": "python3"
  },
  "language_info": {
   "codemirror_mode": {
    "name": "ipython",
    "version": 3
   },
   "file_extension": ".py",
   "mimetype": "text/x-python",
   "name": "python",
   "nbconvert_exporter": "python",
   "pygments_lexer": "ipython3",
   "version": "3.9.13"
  }
 },
 "nbformat": 4,
 "nbformat_minor": 5
}
