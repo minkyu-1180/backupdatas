{
 "cells": [
  {
   "cell_type": "markdown",
   "id": "9fe28602-17dc-4e96-9c35-2255bfd8c905",
   "metadata": {},
   "source": [
    "# Computer Thinking"
   ]
  },
  {
   "cell_type": "markdown",
   "id": "7f3abaec-e0a5-4803-bd80-d7403a4faa88",
   "metadata": {},
   "source": [
    "## 목차\n",
    "\n",
    "### 0. 서론 - 프로그래밍과 논리/수학\n",
    "### 1. 논리와 증명\n",
    "### 2. 수와 표현\n",
    "### 3. 집합과 조합론\n",
    "### 4. 기초 수식\n",
    "### 5. 재귀\n",
    "### 6. 동적 프로그래밍"
   ]
  },
  {
   "cell_type": "markdown",
   "id": "0cced822-85d2-4d2c-a324-4e5dd58c7fe1",
   "metadata": {},
   "source": []
  },
  {
   "cell_type": "markdown",
   "id": "4934b5ee-27ff-4d2a-a271-5b7db5ff4cdc",
   "metadata": {},
   "source": [
    "## 0. 프로그래밍과 논리 / 수학"
   ]
  },
  {
   "cell_type": "markdown",
   "id": "9dbc6099-abad-4297-ac5f-0e4d3ecf44e1",
   "metadata": {},
   "source": [
    "### 서문\n",
    "- 다익스트라 알고리즘(Dijkstra)를 아무리 봐도 모르겠다\n",
    "- 도구나 라이브러리는 잘 쓰는데, 프로그램을 처음부터 짜려면 막막하다\n",
    "- 어떻게 프로그램을 짜면 더 빠른지, 더 느린지 전혀 감이 없다\n",
    "- logn을 한 마디로 설명하지 못한다\n",
    "- problem solving 자료를 보고 시간을 들여도 발전이 없다\n",
    "\n",
    "#### 나에게 필요한 것\n",
    "논리적으로 정확하게 확인하는 과정의 연습\n",
    "- 되는 것 같다는 기분/공식 외우기가 아닌, 정확하게 확인해보기\n",
    "- 프로그램을 짜기 전에, 정확한 결과가 나올 것인지, 얼마나 빠르게 돌아갈 것인지 미리 알 수 있는가?\n",
    "\n",
    "#### 프로그래밍의 어려운 점 두 가지\n",
    "1. 프로그래밍 언어 문법과 라이브러리 사용\n",
    "    - 많이 알려진 어려운 점\n",
    "    - 처음 본 경우, 위 프로그램이 무엇을 하는 것인지 알 수 없음\n",
    "2. Hard Logic\n",
    "    - 프로그래밍에서 사용하는 논리\n",
    "    - 프로그래밍 언어의 표현 : 논리학\n",
    "    - 사용되는 수많은 알고리즘들을 이해하기 위해 필요한 것\n",
    "\n",
    "#### 참고\n",
    "명제 : 참이나 거짓을 알 수 있는 식이나 문장\n",
    "- p, q, r, ...로 표현\n",
    "\n",
    "진릿값 : 참이나 거짓을 표현하는 방법\n",
    "- T,F 또는 0,1\n",
    "\n",
    "연산\n",
    "- 부정(not) : p가 명제일 때, 명제의 진릿값이 반대(~p)\n",
    "- 논리곱(and) : p, q가 명제일 때, p와 q 모두 참일 때만 참이 되는 명제(p^q)\n",
    "- 논리합(or) : p, q가 명제일 때, p와 q 모두 거짓일 때만 거짓이 되는 명지(pvq)\n",
    "- 배타적 논리합(xor) : p, q가 명제일 때, p와 q 중 하나만 참일 때 참이 되는 명제\n",
    "\n",
    "항진명제 : 진릿값이 항상 참인 명제\n",
    "\n",
    "모순명제 : 진릿값이 항상 거짓인 명제\n",
    "\n",
    "사건명제 : 항진명제도 모순명제도 아닌 명제\n",
    "\n",
    "조건명제 : p, q가 명제일 때, p가 조건, q가 결론으로 제시되는 명제(p->q)\n",
    "- p이면 q이다\n",
    "쌍방조건명제 : p, q가 명제일 때, p와 q 모두 조건이면서 결론인 명제(p 12 q)\n",
    "- p면 q고, q면 p이다\n",
    "\n"
   ]
  },
  {
   "cell_type": "markdown",
   "id": "7f02799d-d1ac-4326-a399-dfc57536e036",
   "metadata": {},
   "source": [
    "## 1. 논리와 증명"
   ]
  },
  {
   "cell_type": "markdown",
   "id": "632a4525-d763-48cb-a057-f41b25a05a12",
   "metadata": {},
   "source": [
    "### 증명\n",
    "정확한 명제식으로 표현할 수 있는 것\n",
    "- 명제식으로 바꿀 수 있음\n",
    "- 증명에 대한 수많은 오해 : p -> q와 p 12 q를 혼동\n",
    "\n",
    "#### 증명 연습\n",
    "Trivial Proof : 명확한 증명\n",
    "- P(x) -> Q(x)에서 Q가 항상 참인 경우\n",
    "\n",
    "Vacuous Proof : \n",
    "- P(x) -> Q(x)에서 P가 항상 거짓인 경우"
   ]
  },
  {
   "cell_type": "markdown",
   "id": "e33c9c5c-64a8-44b6-9808-7fa3ed513318",
   "metadata": {},
   "source": [
    "## 2. 수와 표현"
   ]
  },
  {
   "cell_type": "markdown",
   "id": "096ac1e6-5bfe-495f-a88d-c59aa5b8b51a",
   "metadata": {},
   "source": [
    "### 컴퓨터의 수와 표현\n",
    "컴퓨터는 0과 1을 표현할 수 있는 비트들을 모아서 수를 표현한다\n",
    "- k개의 비트 사용시, 0 ~ 2^k -1까지 표현 가능(범위는 자유 / 최대 2^k가지의 값 표현 가능)\n",
    "- n을 표현하기 위해 필요한 비트 : 2^k-1 >= n  <->  k >= log(n+1) 즉, logn개의 비트 필요\n",
    "#### logn의 의미\n",
    "1. 2의 몇 제곱이 n이 되는가?(n = 2^k)\n",
    "2. n을 표현하는 데 몇 개의 비트가 필요한가?\n",
    "3. 1에서 시작해서 계속 두 배를 할 때 몇 번 시행해야 n이 되는가?\n",
    "4. n을 2로 계속 나눌 때 몇 번 시행해야 1에 가까워지는가?\n",
    "- 32비트 컴퓨터의 주소 공간 = 2^32 : 약 40억개의 주소\n",
    "- n + (n//2 + n//2) + (n//4 + n//4 + n//4 + n//4) + ... + (1 + 1 + ... + 1) = nlogn\n",
    "- n + n//2 + n//4 + ... + 1 ~= 2n\n",
    "- 위의 두 식의 항의 개수 : logn"
   ]
  },
  {
   "cell_type": "markdown",
   "id": "b20d4b3e-6b88-40d4-a476-6b3da2676621",
   "metadata": {},
   "source": [
    "## 3. 집합과 조합론"
   ]
  },
  {
   "cell_type": "markdown",
   "id": "8c702d54-9053-4931-b1cd-bdfb0634fdc5",
   "metadata": {},
   "source": [
    "### 집합과 조합론\n",
    "두 집합 A와 B에 대해\n",
    "- A가 B의 부분집합이다 == A의 임의의 원소 x가 B에도 반드시 포함된다\n",
    "- A와 B가 같다 == A가 B의 부분집합이다 & B가 A의 부분집합이다"
   ]
  },
  {
   "cell_type": "markdown",
   "id": "a6f90edb-de9c-45ac-b608-1f74732e0cc0",
   "metadata": {},
   "source": [
    "## 4. 기초 수식"
   ]
  },
  {
   "cell_type": "markdown",
   "id": "28f0d196-e61a-4ee8-9531-dfa624a0d597",
   "metadata": {},
   "source": [
    "### 기초 수식\n",
    "알고리즘의 시간 복잡도를 표현할 수 있는 다양한 수식 존재\n",
    "- 풀이법을 익혀 두어야 알고리즘의 시간 복잡도 계산 가능\n",
    "\n",
    "ex)\n",
    "- T(n) = T(n-1) + 1, T(0) = 1\n",
    "-  -> T(n) = T(n-2) + 1 + 1 = T(n-3) + 1 + 1 + 1 = ... = T(0) + 1 + 1+ ... +1 = 1 + n = O(n)"
   ]
  },
  {
   "cell_type": "markdown",
   "id": "fd33144d-7ef4-4563-9394-3207dd9c1129",
   "metadata": {},
   "source": []
  },
  {
   "cell_type": "markdown",
   "id": "844c234c-c0f3-4ed5-ab91-6b5800231aba",
   "metadata": {},
   "source": []
  },
  {
   "cell_type": "markdown",
   "id": "bd901805-dd46-4bee-8701-cf60f0a95ac7",
   "metadata": {},
   "source": []
  },
  {
   "cell_type": "markdown",
   "id": "94a456e3-4a05-4351-9357-5cb82c1d965a",
   "metadata": {},
   "source": []
  },
  {
   "cell_type": "markdown",
   "id": "79465a00-4eed-4777-b757-124ada366ecf",
   "metadata": {},
   "source": []
  },
  {
   "cell_type": "markdown",
   "id": "e2245132-9554-44c2-9caf-9b8e4a9fca57",
   "metadata": {},
   "source": []
  },
  {
   "cell_type": "markdown",
   "id": "fc8b52a8-f368-464d-896d-71241cbfa15c",
   "metadata": {},
   "source": []
  },
  {
   "cell_type": "markdown",
   "id": "26f36e3d-84e4-4d91-8164-d9b67c883d6f",
   "metadata": {},
   "source": []
  },
  {
   "cell_type": "markdown",
   "id": "d7e35ede-7e78-4024-808c-5f0a3b266156",
   "metadata": {},
   "source": []
  },
  {
   "cell_type": "code",
   "execution_count": null,
   "id": "5e6a7600-538e-40c6-89ca-4afbe513016b",
   "metadata": {},
   "outputs": [],
   "source": []
  }
 ],
 "metadata": {
  "kernelspec": {
   "display_name": "Python 3 (ipykernel)",
   "language": "python",
   "name": "python3"
  },
  "language_info": {
   "codemirror_mode": {
    "name": "ipython",
    "version": 3
   },
   "file_extension": ".py",
   "mimetype": "text/x-python",
   "name": "python",
   "nbconvert_exporter": "python",
   "pygments_lexer": "ipython3",
   "version": "3.9.13"
  }
 },
 "nbformat": 4,
 "nbformat_minor": 5
}
